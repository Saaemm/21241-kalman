{
 "cells": [
  {
   "cell_type": "code",
   "execution_count": null,
   "metadata": {},
   "outputs": [],
   "source": [
    "using LinearAlgebra\n",
    "\n",
    "function predict(prev_estimate, prev_covariance, transition_mat, noise_mat)\n",
    "    prev_estimate = dot(transition_mat, prev_estimate)\n",
    "    prev_covariance = dot(transition_mat, dot(prev_covariance, transpose(transition_mat)))\n",
    "    return (prev_estimate, prev_covariance)\n",
    "end"
   ]
  }
 ],
 "metadata": {
  "kernelspec": {
   "display_name": "Julia 1.9.2",
   "language": "julia",
   "name": "julia-1.9"
  },
  "language_info": {
   "name": "julia",
   "version": "3.10.12"
  }
 },
 "nbformat": 4,
 "nbformat_minor": 2
}
